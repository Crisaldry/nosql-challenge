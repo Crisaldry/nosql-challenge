{
 "cells": [
  {
   "attachments": {},
   "cell_type": "markdown",
   "id": "9a57c4c6",
   "metadata": {},
   "source": [
    "# Eat Safe, Love"
   ]
  },
  {
   "attachments": {},
   "cell_type": "markdown",
   "id": "064ef857",
   "metadata": {},
   "source": [
    "## Notebook Set Up"
   ]
  },
  {
   "cell_type": "code",
   "execution_count": null,
   "id": "3ecdd008",
   "metadata": {},
   "outputs": [],
   "source": [
    "# Import dependencies\n",
    "from pymongo import MongoClient\n",
    "from pprint import pprint\n",
    "import pandas as pd"
   ]
  },
  {
   "cell_type": "code",
   "execution_count": null,
   "id": "59390c4a",
   "metadata": {},
   "outputs": [],
   "source": [
    "# Create an instance of MongoClient\n",
    "mongo = MongoClient(port=27017)"
   ]
  },
  {
   "cell_type": "code",
   "execution_count": null,
   "id": "71e373c1",
   "metadata": {},
   "outputs": [],
   "source": [
    "# assign the uk_food database to a variable name\n",
    "db = mongo['uk_food']"
   ]
  },
  {
   "cell_type": "code",
   "execution_count": null,
   "id": "18ab463c",
   "metadata": {},
   "outputs": [],
   "source": [
    "# review the collections in our new database\n",
    "\n",
    "# list of collection names in the db\n",
    "collection_names = db.list_collection_names()\n",
    "\n",
    "# Print the list\n",
    "print(collection_names)\n",
    "\n"
   ]
  },
  {
   "cell_type": "code",
   "execution_count": null,
   "id": "11c9f11b",
   "metadata": {},
   "outputs": [],
   "source": [
    "# assign the collection to a variable\n",
    "collection = db['establishments']"
   ]
  },
  {
   "attachments": {},
   "cell_type": "markdown",
   "id": "d5671434",
   "metadata": {},
   "source": [
    "## Part 3: Exploratory Analysis\n",
    "Unless otherwise stated, for each question: \n",
    "* Use `count_documents` to display the number of documents contained in the result.\n",
    "* Display the first document in the results using `pprint`.\n",
    "* Convert the result to a Pandas DataFrame, print the number of rows in the DataFrame, and display the first 10 rows."
   ]
  },
  {
   "attachments": {},
   "cell_type": "markdown",
   "id": "314bd884",
   "metadata": {},
   "source": [
    "### 1. Which establishments have a hygiene score equal to 20?"
   ]
  },
  {
   "cell_type": "code",
   "execution_count": null,
   "id": "c2da7648",
   "metadata": {},
   "outputs": [],
   "source": [
    "\n",
    "# A query to find the establishments with a hygiene score of 20\n",
    "hygiene_query = {\"scores.Hygiene\": 20}\n",
    "hygiene_results = collection.find(hygiene_query)\n",
    "\n",
    "# list the correct number of documents\n",
    "hygiene_count = collection.count_documents(hygiene_query)\n",
    "print(\"Number of documents with hygiene score 20:\", hygiene_count)\n",
    "\n",
    "pprint(hygiene_results[0])\n"
   ]
  },
  {
   "cell_type": "code",
   "execution_count": null,
   "id": "a6e5cece",
   "metadata": {},
   "outputs": [],
   "source": [
    "hygiene_df = pd.DataFrame(hygiene_results)\n",
    "hygiene_df\n",
    "#print(hygiene_df.head(10))"
   ]
  },
  {
   "attachments": {},
   "cell_type": "markdown",
   "id": "0ef4395a",
   "metadata": {},
   "source": [
    "### 2. Which establishments in London have a `RatingValue` greater than or equal to 4?"
   ]
  },
  {
   "cell_type": "code",
   "execution_count": null,
   "id": "93c63829",
   "metadata": {},
   "outputs": [],
   "source": [
    "# Find the establishments with London as the Local Authority and a RatingValue greater than or equal to 4\n",
    "query_london = {'LocalAuthorityName': {'$regex': 'London'}, 'RatingValue': {'$gte': 4}}\n",
    "\n",
    "# Use count_documents to display the number of documents in the result\n",
    "count_london = collection.count_documents(query_london)\n",
    "print(f\"There are {count_london} establishments in London that have a RatingValue greater than or equal to 4.\")\n",
    "\n",
    "# Display the first document in the results using pprint\n",
    "from pprint import pprint\n",
    "first_document = collection.find_one(query_london)\n",
    "pprint(first_document)\n"
   ]
  },
  {
   "cell_type": "code",
   "execution_count": null,
   "id": "07e24ccb",
   "metadata": {},
   "outputs": [],
   "source": [
    "# Convert the result to a Pandas DataFrame\n",
    "london_df = pd.DataFrame(collection.find(query_london))\n",
    "\n",
    "# Display the number of rows in the DataFrame\n",
    "print(f\"There are {len(london_df)} rows in this DataFrame.\")\n",
    "\n",
    "# Display the first 10 rows of the DataFrame\n",
    "london_df.head(10)"
   ]
  },
  {
   "attachments": {},
   "cell_type": "markdown",
   "id": "4e570caf",
   "metadata": {},
   "source": [
    "### 3. What are the top 5 establishments with a `RatingValue` rating value of 5, sorted by lowest hygiene score, nearest to the new restaurant added, \"Penang Flavours\"?"
   ]
  },
  {
   "cell_type": "code",
   "execution_count": null,
   "id": "e45aa54d",
   "metadata": {},
   "outputs": [],
   "source": [
    "# Find the latitude and longitude of \"Penang Flavours\"\n",
    "penang_flavours = collection.find_one({'BusinessName': 'Penang Flavours'}, {'geocode.latitude', 'geocode.longitude'})\n",
    "pprint(penang_flavours['geocode'])\n"
   ]
  },
  {
   "cell_type": "code",
   "execution_count": null,
   "id": "aa371dc9",
   "metadata": {},
   "outputs": [],
   "source": [
    "import math\n",
    "\n",
    "# Latitude and Longitude of \"Penang Flavours\"\n",
    "pf_latitude = 51.490142\n",
    "pf_longitude = 0.083840\n",
    "\n",
    "# Query to find establishments with RatingValue 5 within a specific range\n",
    "query = {\n",
    "    'RatingValue': 5,\n",
    "    'scores.Hygiene': {'$ne': ''},\n",
    "    'geocode.latitude': {'$gt': pf_latitude - 0.01, '$lt': pf_latitude + 0.01},\n",
    "    'geocode.longitude': {'$gt': pf_longitude - 0.01, '$lt': pf_longitude + 0.01}\n",
    "}\n",
    "\n",
    "# Sort the establishments by hygiene score in ascending order and retrieve the top 5\n",
    "results = collection.find(query).sort([('scores.Hygiene', 1)]).limit(5)\n",
    "\n",
    "# Print the top 5 establishments\n",
    "print(\"Top 5 establishments with RatingValue 5, sorted by lowest hygiene score and nearest to 'Penang Flavours':\")\n",
    "for i, establishment in enumerate(results, 1):\n",
    "    print(f\"#{i}\")\n",
    "    print(\"Business Name:\", establishment['BusinessName'])\n",
    "    print(\"Hygiene Score:\", establishment['scores']['Hygiene'])\n",
    "    print(\"Distance from 'Penang Flavours':\", math.dist((pf_latitude, pf_longitude), (float(establishment['geocode']['latitude']), float(establishment['geocode']['longitude']))))\n",
    "    print(\"-----------------------------------------\")\n"
   ]
  },
  {
   "cell_type": "code",
   "execution_count": null,
   "id": "7f599f3d",
   "metadata": {},
   "outputs": [],
   "source": [
    "# # Search within 0.01 degree on either side of the latitude and longitude.\n",
    "# # Rating value must equal 5\n",
    "# # Sort by hygiene score\n",
    "\n",
    "# degree_search = 0.01\n",
    "# latitude = \n",
    "# longitude = \n",
    "\n",
    "# query = \n",
    "# sort =  \n",
    "\n",
    "# # Print the results\n"
   ]
  },
  {
   "cell_type": "code",
   "execution_count": null,
   "id": "a6ad16f7",
   "metadata": {},
   "outputs": [],
   "source": [
    "# Convert result to Pandas DataFrame\n"
   ]
  },
  {
   "attachments": {},
   "cell_type": "markdown",
   "id": "67281254",
   "metadata": {},
   "source": [
    "### 4. How many establishments in each Local Authority area have a hygiene score of 0?"
   ]
  },
  {
   "cell_type": "code",
   "execution_count": null,
   "id": "4eeb227e",
   "metadata": {},
   "outputs": [],
   "source": [
    "# Query to find establishments with hygiene score of 0\n",
    "query4 = {'scores.Hygiene': 0}\n",
    "\n",
    "# Group by Local Authority and count the number of establishments\n",
    "group_by_local_authority = {\n",
    "    '$group': {\n",
    "        '_id': '$LocalAuthorityName',\n",
    "        'count': {'$sum': 1}\n",
    "    }\n",
    "}\n",
    "\n",
    "# Sort the results in descending order by count\n",
    "sort_by_count = {\n",
    "    '$sort': {'count': -1}\n",
    "}\n",
    "\n",
    "# Limit the results to the top ten Local Authority areas\n",
    "limit_results = {\n",
    "    '$limit': 10\n",
    "}\n",
    "\n",
    "# Pipeline to perform the aggregation\n",
    "pipeline = [\n",
    "    {'$match': query4},\n",
    "    group_by_local_authority,\n",
    "    sort_by_count,\n",
    "    limit_results\n",
    "]\n",
    "\n",
    "# Perform the aggregation\n",
    "results = collection.aggregate(pipeline)\n",
    "\n",
    "# Print the results\n",
    "print(\"Top ten Local Authority areas with establishments having a hygiene score of 0:\")\n",
    "for result in results:\n",
    "    print(result['_id'], \"-\", result['count'])\n"
   ]
  },
  {
   "cell_type": "code",
   "execution_count": null,
   "id": "d8aab364",
   "metadata": {},
   "outputs": [],
   "source": [
    "\n",
    "# aggregation pipeline\n",
    "pipeline = [\n",
    "    {\n",
    "        '$match': {\n",
    "            'scores.Hygiene': 0\n",
    "        }\n",
    "    },\n",
    "    {\n",
    "        '$group': {\n",
    "            '_id': '$LocalAuthorityName',\n",
    "            'count': {'$sum': 1}\n",
    "        }\n",
    "    },\n",
    "    {\n",
    "        '$sort': {\n",
    "            'count': -1\n",
    "        }\n",
    "    },\n",
    "    {\n",
    "        '$limit': 10\n",
    "    }\n",
    "]\n",
    "\n",
    "# Execute the aggregation query\n",
    "results_hygiene_0 = list(collection.aggregate(pipeline))\n",
    "\n",
    "# Print the top ten Local Authority areas with establishments having a hygiene score of 0\n",
    "print(\"Top ten Local Authority areas with establishments having a hygiene score of 0:\")\n",
    "for result in results_hygiene_0:\n",
    "    pprint(result)\n",
    "\n",
    "# Convert results to a Pandas DataFrame and display the first 10 rows\n",
    "results_hygiene_0_df = pd.DataFrame(results_hygiene_0)\n",
    "print(results_hygiene_0_df.head(10))\n"
   ]
  },
  {
   "cell_type": "code",
   "execution_count": null,
   "id": "f1b81ed1",
   "metadata": {},
   "outputs": [],
   "source": [
    "# Convert results to a Pandas DataFrame and display the first 10 rows\n",
    "results_hygiene_0_df = pd.DataFrame(results_hygiene_0)\n",
    "print(results_hygiene_0_df.head(10))"
   ]
  }
 ],
 "metadata": {
  "kernelspec": {
   "display_name": "Python 3 (ipykernel)",
   "language": "python",
   "name": "python3"
  },
  "language_info": {
   "codemirror_mode": {
    "name": "ipython",
    "version": 3
   },
   "file_extension": ".py",
   "mimetype": "text/x-python",
   "name": "python",
   "nbconvert_exporter": "python",
   "pygments_lexer": "ipython3",
   "version": "3.10.4"
  }
 },
 "nbformat": 4,
 "nbformat_minor": 5
}

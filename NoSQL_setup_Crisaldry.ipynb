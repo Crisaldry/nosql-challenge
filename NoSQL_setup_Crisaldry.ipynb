{
 "cells": [
  {
   "attachments": {},
   "cell_type": "markdown",
   "id": "9a57c4c6",
   "metadata": {},
   "source": [
    "# Eat Safe, Love"
   ]
  },
  {
   "attachments": {},
   "cell_type": "markdown",
   "id": "064ef857",
   "metadata": {},
   "source": [
    "## Part 1: Database and Jupyter Notebook Set Up"
   ]
  },
  {
   "attachments": {},
   "cell_type": "markdown",
   "id": "664e3c1f",
   "metadata": {},
   "source": [
    "Import the data provided in the `establishments.json` file from your Terminal. Name the database `uk_food` and the collection `establishments`.\n",
    "\n",
    "Within this markdown cell, copy the line of text you used to import the data from your Terminal. This way, future analysts will be able to repeat your process.\n",
    "\n",
    "e.g.: Import the dataset with `--- text used to import the data from the Terminal -- \n",
    "----------------------------------------------------------------------------------------------------------------\n",
    "Last login: Sat May  6 20:45:47 on ttys003\n",
    "(base) Crisaldry@MacBook-Air Resources % conda activate PythonData\n",
    "(PythonData) Crisaldry@MacBook-Air Resources % brew services start mongodb-community@6.0\n",
    "==> Successfully started `mongodb-community` (label: homebrew.mxcl.mongodb-commu\n",
    "(PythonData) Crisaldry@MacBook-Air Resources % mongoimport --db uk_food --collection establishments --file establishments.json\n",
    "\n",
    "2023-05-06T20:48:00.151-0400\tconnected to: mongodb://localhost/\n",
    "2023-05-06T20:48:00.573-0400\tFailed: cannot decode array into a primitive.D\n",
    "2023-05-06T20:48:00.573-0400\t0 document(s) imported successfully. 0 document(s) failed to import.\n",
    "(PythonData) Crisaldry@MacBook-Air Resources % mongoimport --db uk_food --collection establishments --file establishments.json\n",
    "\n",
    "2023-05-06T20:49:49.308-0400\tconnected to: mongodb://localhost/\n",
    "2023-05-06T20:49:49.719-0400\tFailed: cannot decode array into a primitive.D\n",
    "2023-05-06T20:49:49.719-0400\t0 document(s) imported successfully. 0 document(s) failed to import.\n",
    "(PythonData) Crisaldry@MacBook-Air Resources % mongoimport --db uk_food --collection establishments --file establishments.json --jsonArray\n",
    "\n",
    "2023-05-06T20:49:56.105-0400\tconnected to: mongodb://localhost/\n",
    "2023-05-06T20:49:57.788-0400\t39779 document(s) imported successfully. 0 document(s) failed to import.\n",
    "(PythonData) Crisaldry@MacBook-Air Resources % `"
   ]
  },
  {
   "cell_type": "code",
   "execution_count": null,
   "id": "3ecdd008",
   "metadata": {},
   "outputs": [],
   "source": [
    "\n",
    "# Import dependencies\n",
    "from pymongo import MongoClient\n",
    "from pprint import pprint\n",
    "import pandas as pd"
   ]
  },
  {
   "cell_type": "code",
   "execution_count": null,
   "id": "59390c4a",
   "metadata": {},
   "outputs": [],
   "source": [
    "# Create an instance of MongoClient\n",
    "mongo = MongoClient(port=27017)"
   ]
  },
  {
   "cell_type": "code",
   "execution_count": null,
   "id": "7f9ececa",
   "metadata": {},
   "outputs": [],
   "source": [
    "# confirm that our new database was created\n",
    "\n",
    "db_names = mongo.list_database_names()\n",
    "if 'uk_food' in db_names:\n",
    "    print('The database exists')\n",
    "else:\n",
    "    print('The database does not exist')"
   ]
  },
  {
   "cell_type": "code",
   "execution_count": null,
   "id": "71e373c1",
   "metadata": {},
   "outputs": [],
   "source": [
    "# assign the uk_food database to a variable name\n",
    "db = mongo['uk_food']"
   ]
  },
  {
   "cell_type": "code",
   "execution_count": null,
   "id": "ef1b89ed",
   "metadata": {},
   "outputs": [],
   "source": [
    "# review the collections in our new database\n",
    "\n",
    "# list of collection names in the db\n",
    "collection_names = db.list_collection_names()\n",
    "\n",
    "# Print the list\n",
    "print(collection_names)\n"
   ]
  },
  {
   "cell_type": "code",
   "execution_count": null,
   "id": "18ab463c",
   "metadata": {},
   "outputs": [],
   "source": [
    "\n",
    "# review the collections in our new database\n",
    "collection = db.get_collection('establishments')\n",
    "print(collection)"
   ]
  },
  {
   "cell_type": "code",
   "execution_count": null,
   "id": "6a0d92df",
   "metadata": {},
   "outputs": [],
   "source": [
    "# review a document in the establishments collection\n",
    "# review a document in the establishments collection\n",
    "document = collection.find_one()\n",
    "\n",
    "print(document)"
   ]
  },
  {
   "cell_type": "code",
   "execution_count": null,
   "id": "67598a2b",
   "metadata": {},
   "outputs": [],
   "source": [
    "# assign the collection to a variable\n",
    "collection = db['establishments']\n",
    "\n",
    "collection"
   ]
  },
  {
   "cell_type": "code",
   "execution_count": null,
   "id": "1c351009",
   "metadata": {},
   "outputs": [],
   "source": [
    "collection"
   ]
  },
  {
   "attachments": {},
   "cell_type": "markdown",
   "id": "d5671434",
   "metadata": {},
   "source": [
    "## Part 2: Update the Database"
   ]
  },
  {
   "attachments": {},
   "cell_type": "markdown",
   "id": "314bd884",
   "metadata": {},
   "source": [
    "1. An exciting new halal restaurant just opened in Greenwich, but hasn't been rated yet. The magazine has asked you to include it in your analysis. Add the following restaurant \"Penang Flavours\" to the database."
   ]
  },
  {
   "cell_type": "code",
   "execution_count": null,
   "id": "c2da7648",
   "metadata": {},
   "outputs": [],
   "source": [
    "# Create a dictionary for the new restaurant data\n",
    "\n",
    "# Create a dictionary for the new restaurant data\n",
    "penang_flavours = {\n",
    "    \"BusinessName\":\"Penang Flavours\",\n",
    "    \"BusinessType\":\"Restaurant/Cafe/Canteen\",\n",
    "    \"BusinessTypeID\":\"\",\n",
    "    \"AddressLine1\":\"Penang Flavours\",\n",
    "    \"AddressLine2\":\"146A Plumstead Rd\",\n",
    "    \"AddressLine3\":\"London\",\n",
    "    \"AddressLine4\":\"\",\n",
    "    \"PostCode\":\"SE18 7DY\",\n",
    "    \"Phone\":\"\",\n",
    "    \"LocalAuthorityCode\":\"511\",\n",
    "    \"LocalAuthorityName\":\"Greenwich\",\n",
    "    \"LocalAuthorityWebSite\":\"http://www.royalgreenwich.gov.uk\",\n",
    "    \"LocalAuthorityEmailAddress\":\"health@royalgreenwich.gov.uk\",\n",
    "    \"scores\":{\n",
    "        \"Hygiene\":\"\",\n",
    "        \"Structural\":\"\",\n",
    "        \"ConfidenceInManagement\":\"\"\n",
    "    },\n",
    "    \"SchemeType\":\"FHRS\",\n",
    "    \"geocode\":{\n",
    "        \"longitude\":\"0.08384000\",\n",
    "        \"latitude\":\"51.49014200\"\n",
    "    },\n",
    "    \"RightToReply\":\"\",\n",
    "    \"Distance\":4623.9723280747176,\n",
    "    \"NewRatingPending\":True\n",
    "}"
   ]
  },
  {
   "cell_type": "code",
   "execution_count": null,
   "id": "a6e5cece",
   "metadata": {},
   "outputs": [],
   "source": [
    "\n",
    "# Insert the new restaurant into the collection\n",
    "result = collection.insert_one(penang_flavours)\n",
    "print(f\"Inserted new restaurant with ID {result.inserted_id}\")"
   ]
  },
  {
   "cell_type": "code",
   "execution_count": null,
   "id": "63bb10f9",
   "metadata": {},
   "outputs": [],
   "source": [
    "\n",
    "# Check that the new restaurant was inserted\n",
    "new_restaurant_fhrsid = 123456\n",
    "result = collection.find_one({\"FHRSID\": new_restaurant_fhrsid})\n",
    "\n",
    "if result:\n",
    "    print(\"New restaurant was successfully inserted.\")\n",
    "    print(result)\n",
    "else:\n",
    "    print(\"Failed to insert new restaurant.\")"
   ]
  },
  {
   "attachments": {},
   "cell_type": "markdown",
   "id": "0ef4395a",
   "metadata": {},
   "source": [
    "2. Find the BusinessTypeID for \"Restaurant/Cafe/Canteen\" and return only the `BusinessTypeID` and `BusinessType` fields."
   ]
  },
  {
   "cell_type": "code",
   "execution_count": null,
   "id": "93c63829",
   "metadata": {},
   "outputs": [],
   "source": [
    "# Find the BusinessTypeID for \"Restaurant/Cafe/Canteen\" and return only the BusinessTypeID and BusinessType fields\n",
    "query = {\"BusinessType\": \"Restaurant/Cafe/Canteen\"}\n",
    "projection = {\"_id\": 0, \"BusinessTypeID\": 1, \"BusinessType\": 1}\n",
    "\n",
    "results = collection.find(query, projection)\n",
    "\n",
    "for result in results:\n",
    "    print(result)"
   ]
  },
  {
   "attachments": {},
   "cell_type": "markdown",
   "id": "4e570caf",
   "metadata": {},
   "source": [
    "3. Update the new restaurant with the `BusinessTypeID` you found."
   ]
  },
  {
   "cell_type": "code",
   "execution_count": null,
   "id": "73f96ccb",
   "metadata": {},
   "outputs": [],
   "source": [
    "# Perform a query to find the document with the given FHRSID\n",
    "query = {\"FHRSID\": new_restaurant_fhrsid}\n",
    "result = collection.find_one(query)\n",
    "\n",
    "if result:\n",
    "    print(\"Restaurant with the specified FHRSID exists in the collection.\")\n",
    "else:\n",
    "    print(\"Restaurant with the specified FHRSID does not exist in the collection.\")\n"
   ]
  },
  {
   "cell_type": "code",
   "execution_count": null,
   "id": "7f599f3d",
   "metadata": {},
   "outputs": [],
   "source": [
    "\n",
    "# Update the new restaurant with the correct BusinessTypeID\n",
    "correct_business_type_id = \"7842\"\n",
    "filter_query = {\"FHRSID\": new_restaurant_fhrsid}\n",
    "update_query = {\"$set\": {\"BusinessTypeID\": correct_business_type_id}}\n",
    "\n",
    "result = collection.update_one(filter_query, update_query)\n",
    "\n",
    "if result.matched_count == 1 and result.modified_count == 1:\n",
    "    print(\"New restaurant was successfully updated.\")\n",
    "else:\n",
    "    print(\"Failed to update new restaurant.\")"
   ]
  },
  {
   "cell_type": "code",
   "execution_count": null,
   "id": "a6ad16f7",
   "metadata": {},
   "outputs": [],
   "source": [
    "# Confirm that the new restaurant was updated\n",
    "query = {\"FHRSID\": new_restaurant_fhrsid}\n",
    "projection = {\"_id\": 0, \"BusinessTypeID\": 1}\n",
    "\n",
    "result = collection.find_one(query, projection)\n",
    "\n",
    "if result is not None:\n",
    "    print(\"BusinessTypeID of Penang Flavours:\", result['BusinessTypeID'])\n",
    "else:\n",
    "    print(\"Penang Flavours not found in database.\")"
   ]
  },
  {
   "attachments": {},
   "cell_type": "markdown",
   "id": "67281254",
   "metadata": {},
   "source": [
    "4. The magazine is not interested in any establishments in Dover, so check how many documents contain the Dover Local Authority. Then, remove any establishments within the Dover Local Authority from the database, and check the number of documents to ensure they were deleted."
   ]
  },
  {
   "cell_type": "code",
   "execution_count": null,
   "id": "768474a6",
   "metadata": {},
   "outputs": [],
   "source": [
    "\n",
    "# Find how many documents have LocalAuthorityName as \"Dover\"\n",
    "\n",
    "dover_query = {\"LocalAuthorityName\": \"Dover\"}\n",
    "\n",
    "dover_count = collection.count_documents(dover_query)\n",
    "\n",
    "print(\"Number of documents with LocalAuthorityName as Dover:\", dover_count)\n"
   ]
  },
  {
   "cell_type": "code",
   "execution_count": null,
   "id": "a11d5f1b",
   "metadata": {},
   "outputs": [],
   "source": [
    "# Delete all documents where LocalAuthorityName is \"Dover\"\n",
    "\n",
    "dover_query = {\"LocalAuthorityName\": \"Dover\"}\n",
    "\n",
    "result = collection.delete_many(dover_query)\n",
    "\n",
    "print(result.deleted_count, \"documents deleted.\")\n"
   ]
  },
  {
   "cell_type": "code",
   "execution_count": null,
   "id": "2a51aba0",
   "metadata": {},
   "outputs": [],
   "source": [
    "# Check if any remaining documents include Dover\n",
    "dover_query = {\"LocalAuthorityName\": \"Dover\"}\n",
    "\n",
    "dover_count = collection.count_documents(dover_query)\n",
    "\n",
    "print(\"Number of documents with LocalAuthorityName as Dover:\", dover_count)\n"
   ]
  },
  {
   "cell_type": "code",
   "execution_count": null,
   "id": "8c356f7b",
   "metadata": {},
   "outputs": [],
   "source": [
    "\n",
    "# Check that other documents remain with 'find_one'\n",
    "dover_query = {\"LocalAuthorityName\": \"Dover\"}\n",
    "\n",
    "result = collection.delete_many(dover_query)\n",
    "\n",
    "print(result.deleted_count, \"documents deleted.\")\n",
    "\n",
    "remaining_document = collection.find_one()\n",
    "\n",
    "print(\"A document from the remaining collection:\")\n",
    "print(remaining_document)"
   ]
  },
  {
   "attachments": {},
   "cell_type": "markdown",
   "id": "e9f1662d",
   "metadata": {},
   "source": [
    "5. Some of the number values are stored as strings, when they should be stored as numbers."
   ]
  },
  {
   "attachments": {},
   "cell_type": "markdown",
   "id": "c46df2df",
   "metadata": {},
   "source": [
    "Use `update_many` to convert `latitude` and `longitude` to decimal numbers."
   ]
  },
  {
   "cell_type": "code",
   "execution_count": null,
   "id": "fd4112ce",
   "metadata": {},
   "outputs": [],
   "source": [
    "# Change the data type from String to Decimal for longitude and latitude\n",
    "collection.update_many({}, [{'$set': {'geocode.longitude': {'$toDouble': '$geocode.longitude'}, \n",
    "                                           'geocode.latitude': {'$toDouble': '$geocode.latitude'}\n",
    "                                          }\n",
    "                                 }\n",
    "                                ]\n",
    "                           )"
   ]
  },
  {
   "attachments": {},
   "cell_type": "markdown",
   "id": "142e319c",
   "metadata": {},
   "source": [
    "Use `update_many` to convert `RatingValue` to integer numbers."
   ]
  },
  {
   "cell_type": "code",
   "execution_count": null,
   "id": "04430a5b",
   "metadata": {},
   "outputs": [],
   "source": [
    "# Set non 1-5 Rating Values to Null\n",
    "non_ratings = [\"AwaitingInspection\", \"Awaiting Inspection\", \"AwaitingPublication\", \"Pass\", \"Exempt\"]\n",
    "establishments.update_many({\"RatingValue\": {\"$in\": non_ratings}}, [ {'$set':{ \"RatingValue\" : None}} ])"
   ]
  },
  {
   "cell_type": "code",
   "execution_count": null,
   "id": "54c178ae",
   "metadata": {},
   "outputs": [],
   "source": [
    "# Convert latitude and longitude to decimal numbers\n",
    "filter_query_geo = {\"geocode.latitude\": {\"$exists\": True}, \"geocode.longitude\": {\"$exists\": True}}\n",
    "update_query_geo = [\n",
    "    {\"$set\": {\"geocode.latitude\": {\"$toDouble\": \"$geocode.latitude\"}}},\n",
    "    {\"$set\": {\"geocode.longitude\": {\"$toDouble\": \"$geocode.longitude\"}}}\n",
    "]\n",
    "result_geo = collection.update_many(filter_query_geo, update_query_geo)\n",
    "\n",
    "# Convert RatingValue to integer numbers\n",
    "filter_query_rating = {\"RatingValue\": {\"$exists\": True}}\n",
    "update_query_rating = {\"$set\": {\"RatingValue\": {\"$toInt\": \"$RatingValue\"}}}\n",
    "result_rating = collection.update_many(filter_query_rating, update_query_rating)\n"
   ]
  },
  {
   "cell_type": "code",
   "execution_count": null,
   "id": "9fdf94d4",
   "metadata": {},
   "outputs": [],
   "source": [
    "# Query the documents after the updates\n",
    "updated_documents = collection.find({})\n",
    "\n",
    "# Print the latitude and longitude fields of the updated documents\n",
    "for document in updated_documents:\n",
    "    latitude = document[\"geocode\"][\"latitude\"]\n",
    "    longitude = document[\"geocode\"][\"longitude\"]\n",
    "    print(\"Latitude:\", latitude)\n",
    "    print(\"Longitude:\", longitude)\n"
   ]
  },
  {
   "cell_type": "code",
   "execution_count": null,
   "id": "92524ccc",
   "metadata": {},
   "outputs": [],
   "source": [
    "# Change the data type from String to Integer for RatingValue\n",
    "\n",
    "# Set non 1-5 Rating Values to Null\n",
    "non_ratings = [\"AwaitingInspection\", \"Awaiting Inspection\", \"AwaitingPublication\", \"Pass\", \"Exempt\"]\n",
    "collection.update_many({\"RatingValue\": {\"$in\": non_ratings}}, [ {'$set':{ \"RatingValue\" : None}} ])\n",
    "\n",
    "# Change the data type from String to Integer for RatingValue\n",
    "pipeline_2 = [\n",
    "    {\n",
    "        \"$project\": {\n",
    "            \"BusinessName\": 1,\n",
    "            \"RatingValue\": {\n",
    "                \"$toInt\": \"$RatingValue\"\n",
    "            },\n",
    "            \"AddressLine1\": 1,\n",
    "            \"AddressLine2\": 1,\n",
    "            \"AddressLine3\": 1,\n",
    "            \"AddressLine4\": 1,\n",
    "            \"PostCode\": 1,\n",
    "            \"LocalAuthorityName\": 1\n",
    "        }\n",
    "    }\n",
    "]\n"
   ]
  },
  {
   "cell_type": "code",
   "execution_count": null,
   "id": "0deacaf9",
   "metadata": {},
   "outputs": [],
   "source": [
    "# Check that the coordinates and rating value are now numbers\n",
    "# Query a document to check the data types\n",
    "document = collection.find_one()\n",
    "\n",
    "# Check the data types of the coordinates and RatingValue fields\n",
    "latitude = document['geocode']['latitude']\n",
    "longitude = document['geocode']['longitude']\n",
    "rating_value = document['RatingValue']\n",
    "\n",
    "print(\"Data types:\")\n",
    "print(\"Latitude:\", type(latitude))\n",
    "print(\"Longitude:\", type(longitude))\n",
    "print(\"RatingValue:\", type(rating_value))\n"
   ]
  }
 ],
 "metadata": {
  "kernelspec": {
   "display_name": "Python 3 (ipykernel)",
   "language": "python",
   "name": "python3"
  },
  "language_info": {
   "codemirror_mode": {
    "name": "ipython",
    "version": 3
   },
   "file_extension": ".py",
   "mimetype": "text/x-python",
   "name": "python",
   "nbconvert_exporter": "python",
   "pygments_lexer": "ipython3",
   "version": "3.10.4"
  }
 },
 "nbformat": 4,
 "nbformat_minor": 5
}
